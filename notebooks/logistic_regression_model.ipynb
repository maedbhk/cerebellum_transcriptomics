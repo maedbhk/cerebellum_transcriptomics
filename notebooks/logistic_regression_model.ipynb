{
 "cells": [
  {
   "cell_type": "code",
   "execution_count": null,
   "metadata": {},
   "outputs": [],
   "source": [
    "import numpy as np\n",
    "import pandas as pd\n",
    "import matplotlib.pyplot as plt\n",
    "import seaborn as sns\n",
    "\n",
    "plt.rcParams['figure.figsize'] = (4, 4)\n",
    "plt.rcParams['figure.dpi'] = 150\n",
    "plt.rcParams['lines.linewidth'] = 3\n",
    "sns.set()\n",
    "\n",
    "%matplotlib inline"
   ]
  },
  {
   "cell_type": "code",
   "execution_count": null,
   "metadata": {},
   "outputs": [],
   "source": [
    "# load thresholded dataframe - all samples\n",
    "\n",
    "df = return_thresholded_data(atlas='MDTB-10-subRegions', which_genes='top', atlas_other=\"MDTB-10\", percentile=1, all_samples=True)\n",
    "\n",
    "genes = _get_gene_symbols(atlas=\"MDTB-10\", which_genes='top', percentile=1)"
   ]
  }
 ],
 "metadata": {
  "kernelspec": {
   "display_name": "cerebellum_transcriptomics",
   "language": "python",
   "name": "cerebellum_transcriptomics"
  },
  "language_info": {
   "codemirror_mode": {
    "name": "ipython",
    "version": 3
   },
   "file_extension": ".py",
   "mimetype": "text/x-python",
   "name": "python",
   "nbconvert_exporter": "python",
   "pygments_lexer": "ipython3",
   "version": "3.7.7"
  }
 },
 "nbformat": 4,
 "nbformat_minor": 4
}
